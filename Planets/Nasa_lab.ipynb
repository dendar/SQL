{
 "cells": [
  {
   "cell_type": "markdown",
   "metadata": {},
   "source": [
    "NASA wants to go to Mars! Before they build their rocket, NASA needs to track information about all of the planets in the Solar System."
   ]
  },
  {
   "cell_type": "code",
   "execution_count": 2,
   "metadata": {},
   "outputs": [],
   "source": [
    "# Connecting to the database\n",
    "import pandas as pd\n",
    "import sqlite3\n",
    "conn = sqlite3.connect(\"planets.db\")\n",
    "cur = conn.cursor()"
   ]
  },
  {
   "cell_type": "code",
   "execution_count": 11,
   "metadata": {},
   "outputs": [
    {
     "data": {
      "text/html": [
       "<div>\n",
       "<style scoped>\n",
       "    .dataframe tbody tr th:only-of-type {\n",
       "        vertical-align: middle;\n",
       "    }\n",
       "\n",
       "    .dataframe tbody tr th {\n",
       "        vertical-align: top;\n",
       "    }\n",
       "\n",
       "    .dataframe thead th {\n",
       "        text-align: right;\n",
       "    }\n",
       "</style>\n",
       "<table border=\"1\" class=\"dataframe\">\n",
       "  <thead>\n",
       "    <tr style=\"text-align: right;\">\n",
       "      <th></th>\n",
       "      <th>id</th>\n",
       "      <th>name</th>\n",
       "      <th>color</th>\n",
       "      <th>num_of_moons</th>\n",
       "      <th>mass</th>\n",
       "      <th>rings</th>\n",
       "    </tr>\n",
       "  </thead>\n",
       "  <tbody>\n",
       "    <tr>\n",
       "      <th>0</th>\n",
       "      <td>1</td>\n",
       "      <td>Mercury</td>\n",
       "      <td>gray</td>\n",
       "      <td>0</td>\n",
       "      <td>0.55</td>\n",
       "      <td>0</td>\n",
       "    </tr>\n",
       "    <tr>\n",
       "      <th>1</th>\n",
       "      <td>2</td>\n",
       "      <td>Venus</td>\n",
       "      <td>yellow</td>\n",
       "      <td>0</td>\n",
       "      <td>0.82</td>\n",
       "      <td>0</td>\n",
       "    </tr>\n",
       "    <tr>\n",
       "      <th>2</th>\n",
       "      <td>3</td>\n",
       "      <td>Earth</td>\n",
       "      <td>blue</td>\n",
       "      <td>1</td>\n",
       "      <td>1.00</td>\n",
       "      <td>0</td>\n",
       "    </tr>\n",
       "    <tr>\n",
       "      <th>3</th>\n",
       "      <td>4</td>\n",
       "      <td>Mars</td>\n",
       "      <td>red</td>\n",
       "      <td>2</td>\n",
       "      <td>0.11</td>\n",
       "      <td>0</td>\n",
       "    </tr>\n",
       "    <tr>\n",
       "      <th>4</th>\n",
       "      <td>5</td>\n",
       "      <td>Jupiter</td>\n",
       "      <td>orange</td>\n",
       "      <td>68</td>\n",
       "      <td>317.90</td>\n",
       "      <td>0</td>\n",
       "    </tr>\n",
       "    <tr>\n",
       "      <th>5</th>\n",
       "      <td>6</td>\n",
       "      <td>Saturn</td>\n",
       "      <td>hazel</td>\n",
       "      <td>62</td>\n",
       "      <td>95.19</td>\n",
       "      <td>1</td>\n",
       "    </tr>\n",
       "    <tr>\n",
       "      <th>6</th>\n",
       "      <td>7</td>\n",
       "      <td>Uranus</td>\n",
       "      <td>light blue</td>\n",
       "      <td>27</td>\n",
       "      <td>14.54</td>\n",
       "      <td>1</td>\n",
       "    </tr>\n",
       "    <tr>\n",
       "      <th>7</th>\n",
       "      <td>8</td>\n",
       "      <td>Neptune</td>\n",
       "      <td>dark blue</td>\n",
       "      <td>14</td>\n",
       "      <td>17.15</td>\n",
       "      <td>1</td>\n",
       "    </tr>\n",
       "  </tbody>\n",
       "</table>\n",
       "</div>"
      ],
      "text/plain": [
       "   id     name       color  num_of_moons    mass  rings\n",
       "0   1  Mercury        gray             0    0.55      0\n",
       "1   2    Venus      yellow             0    0.82      0\n",
       "2   3    Earth        blue             1    1.00      0\n",
       "3   4     Mars         red             2    0.11      0\n",
       "4   5  Jupiter      orange            68  317.90      0\n",
       "5   6   Saturn       hazel            62   95.19      1\n",
       "6   7   Uranus  light blue            27   14.54      1\n",
       "7   8  Neptune   dark blue            14   17.15      1"
      ]
     },
     "execution_count": 11,
     "metadata": {},
     "output_type": "execute_result"
    }
   ],
   "source": [
    "# here is overview of the planet's table \n",
    "\n",
    "data = cur.execute(\"\"\"Select * From planets\"\"\").fetchall()\n",
    "df = pd.DataFrame(data)\n",
    "df.columns = [x[0]for x in cur.description]\n",
    "df"
   ]
  },
  {
   "cell_type": "code",
   "execution_count": 13,
   "metadata": {},
   "outputs": [
    {
     "data": {
      "text/plain": [
       "[('Mercury', 'gray'),\n",
       " ('Venus', 'yellow'),\n",
       " ('Earth', 'blue'),\n",
       " ('Mars', 'red'),\n",
       " ('Jupiter', 'orange'),\n",
       " ('Saturn', 'hazel'),\n",
       " ('Uranus', 'light blue'),\n",
       " ('Neptune', 'dark blue')]"
      ]
     },
     "execution_count": 13,
     "metadata": {},
     "output_type": "execute_result"
    }
   ],
   "source": [
    "# select just the name and color of each planet\n",
    "cur.execute(\"\"\"Select name, color From planets\"\"\").fetchall()"
   ]
  },
  {
   "cell_type": "code",
   "execution_count": 15,
   "metadata": {},
   "outputs": [
    {
     "data": {
      "text/plain": [
       "[(5, 'Jupiter', 'orange', 68, 317.9, 0),\n",
       " (6, 'Saturn', 'hazel', 62, 95.19, 1),\n",
       " (7, 'Uranus', 'light blue', 27, 14.54, 1),\n",
       " (8, 'Neptune', 'dark blue', 14, 17.15, 1)]"
      ]
     },
     "execution_count": 15,
     "metadata": {},
     "output_type": "execute_result"
    }
   ],
   "source": [
    "# select all columns for each planet whose mass is greater than 1.00\n",
    "cur.execute(\"\"\"Select * From planets Where mass>1\"\"\").fetchall()"
   ]
  },
  {
   "cell_type": "code",
   "execution_count": 17,
   "metadata": {},
   "outputs": [
    {
     "data": {
      "text/plain": [
       "[('Mercury', 0.55), ('Venus', 0.82), ('Earth', 1.0), ('Mars', 0.11)]"
      ]
     },
     "execution_count": 17,
     "metadata": {},
     "output_type": "execute_result"
    }
   ],
   "source": [
    "# Select the name and mass of each planet whose mass is less than or equal to 1.00\n",
    "cur.execute(\"\"\"Select name, mass From planets Where mass<= 1\"\"\").fetchall()"
   ]
  },
  {
   "cell_type": "code",
   "execution_count": 26,
   "metadata": {},
   "outputs": [
    {
     "data": {
      "text/plain": [
       "[('Jupiter', 'orange'),\n",
       " ('Saturn', 'hazel'),\n",
       " ('Uranus', 'light blue'),\n",
       " ('Neptune', 'dark blue')]"
      ]
     },
     "execution_count": 26,
     "metadata": {},
     "output_type": "execute_result"
    }
   ],
   "source": [
    "#Select the name and color of each planet that has more than 10 moons\n",
    "cur.execute(\"\"\"Select name, color From planets Where num_of_moons>10;\"\"\").fetchall()"
   ]
  },
  {
   "cell_type": "code",
   "execution_count": 27,
   "metadata": {},
   "outputs": [
    {
     "data": {
      "text/plain": [
       "[(4, 'Mars', 'red', 2, 0.11, 0)]"
      ]
     },
     "execution_count": 27,
     "metadata": {},
     "output_type": "execute_result"
    }
   ],
   "source": [
    "# Select the planet that has at least one moon and a mass less than 1.00\n",
    "cur.execute(\"\"\"Select * From planets Where num_of_moons>= 1 and mass<1;\"\"\").fetchall()"
   ]
  },
  {
   "cell_type": "code",
   "execution_count": 22,
   "metadata": {},
   "outputs": [
    {
     "data": {
      "text/plain": [
       "[('Earth', 'blue'), ('Uranus', 'light blue'), ('Neptune', 'dark blue')]"
      ]
     },
     "execution_count": 22,
     "metadata": {},
     "output_type": "execute_result"
    }
   ],
   "source": [
    "#Select the name and color of planets that have a color of blue, light blue, or dark blue\n",
    "cur.execute(\"\"\"SELECT name, color FROM planets WHERE color =\"blue\" OR color =\"light blue\" OR color =\"dark blue\";\"\"\" ).fetchall()"
   ]
  },
  {
   "cell_type": "code",
   "execution_count": 28,
   "metadata": {},
   "outputs": [
    {
     "data": {
      "text/plain": [
       "[('Jupiter', 'orange', 68),\n",
       " ('Earth', 'blue', 1),\n",
       " ('Venus', 'yellow', 0),\n",
       " ('Mercury', 'gray', 0)]"
      ]
     },
     "execution_count": 28,
     "metadata": {},
     "output_type": "execute_result"
    }
   ],
   "source": [
    "# Select the name, color, and number of moons for the 4 largest planets that don't have rings and order them from largest to smallest\n",
    "cur.execute(\"\"\"Select name, color, num_of_moons from planets Where rings = 0 Order By mass Desc Limit 4;\"\"\").fetchall()"
   ]
  },
  {
   "cell_type": "code",
   "execution_count": null,
   "metadata": {},
   "outputs": [],
   "source": []
  }
 ],
 "metadata": {
  "kernelspec": {
   "display_name": "Python 3",
   "language": "python",
   "name": "python3"
  },
  "language_info": {
   "codemirror_mode": {
    "name": "ipython",
    "version": 3
   },
   "file_extension": ".py",
   "mimetype": "text/x-python",
   "name": "python",
   "nbconvert_exporter": "python",
   "pygments_lexer": "ipython3",
   "version": "3.7.6"
  },
  "toc": {
   "base_numbering": 1,
   "nav_menu": {},
   "number_sections": true,
   "sideBar": true,
   "skip_h1_title": false,
   "title_cell": "Table of Contents",
   "title_sidebar": "Contents",
   "toc_cell": false,
   "toc_position": {},
   "toc_section_display": true,
   "toc_window_display": false
  }
 },
 "nbformat": 4,
 "nbformat_minor": 4
}
